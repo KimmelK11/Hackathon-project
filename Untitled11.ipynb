{
  "nbformat": 4,
  "nbformat_minor": 0,
  "metadata": {
    "colab": {
      "provenance": [],
      "include_colab_link": true
    },
    "kernelspec": {
      "name": "python3",
      "display_name": "Python 3"
    },
    "language_info": {
      "name": "python"
    }
  },
  "cells": [
    {
      "cell_type": "markdown",
      "metadata": {
        "id": "view-in-github",
        "colab_type": "text"
      },
      "source": [
        "<a href=\"https://colab.research.google.com/github/KimmelK11/git_test/blob/main/Untitled11.ipynb\" target=\"_parent\"><img src=\"https://colab.research.google.com/assets/colab-badge.svg\" alt=\"Open In Colab\"/></a>"
      ]
    },
    {
      "cell_type": "code",
      "source": [
        "import pandas as pd\n",
        "import numpy as np\n",
        "\n",
        "#Plotting\n",
        "import matplotlib.pyplot as plt\n",
        "import FCPython\n",
        "\n",
        "#Statistical fitting of models\n",
        "import statsmodels.api as sm\n",
        "import statsmodels.formula.api as smf\n",
        "data = pd.read_csv(r'/content/events_England.csv')\n",
        "#Decide which league to load\n",
        "#Wyscout data from https://figshare.com/collections/Soccer_match_event_dataset/4415000/2\n",
        "#with open('/content/events_England.csv') as f:\n",
        "    #data = json.load(f)\n",
        "    #data = np.genfromtxt(f, dtype='f4', delimiter=',')\n",
        ""
      ],
      "metadata": {
        "id": "JamAdHQws4Gp"
      },
      "execution_count": null,
      "outputs": []
    },
    {
      "cell_type": "code",
      "source": [
        "#Create a data set of shots.\n",
        "train = pd.DataFrame(data)\n",
        "pd.unique(train['subEventName'])\n",
        "shots=train[train['subEventName']=='Shot']\n",
        "shots_model=pd.DataFrame(columns=['Goal','X','Y'])"
      ],
      "metadata": {
        "id": "NeearzdKs8Z2"
      },
      "execution_count": null,
      "outputs": []
    },
    {
      "cell_type": "code",
      "source": [
        "str = shot.tags\n",
        "print(str)\n",
        "#print(str)\n",
        "\n",
        "#a = str\n",
        "#b = [ float(i) for i in a[1:-1].split(',') ]\n",
        "#print(b)\n",
        "\n",
        "#string='[334.0, 223.0, 41.0, 819.0]'\n",
        "#a = eval(str)\n",
        "#print(a)\n",
        "#print(a[0][\"x\"])\n",
        "#print(shot.positions)"
      ],
      "metadata": {
        "colab": {
          "base_uri": "https://localhost:8080/"
        },
        "id": "KBu0y5CmuXT8",
        "outputId": "21ef3f07-2b90-4a34-fd46-fc274e66f195"
      },
      "execution_count": null,
      "outputs": [
        {
          "output_type": "stream",
          "name": "stdout",
          "text": [
            "[{'id': 402}, {'id': 201}, {'id': 1206}, {'id': 1801}]\n"
          ]
        }
      ]
    },
    {
      "cell_type": "code",
      "source": [
        "str = shot.positions\n",
        "arr = eval(str)\n",
        "\n",
        "string = shot.tags\n",
        "array = eval(string)\n",
        "\n",
        "for i,shot in shots.iterrows():\n",
        "\n",
        "    header=0\n",
        "    #shottags = [shot.tage[0]]\n",
        "    #for shottags in shot['tags']:\n",
        "\n",
        "    #    if shottags[arr[0][\"id\"]]==403:\n",
        "    #        header=1\n",
        "\n",
        "    #for j in range(len(shot['tags'])):\n",
        "    #  if shot.id\n",
        "\n",
        "    #Only include non-headers\n",
        "    #shots_model.at[i,'X']=100-shot['positions'][0]['x']\n",
        "    shots_model.at[i,'X']=100-arr[0]['x']\n",
        "    shots_model.at[i,'Y']=arr[0]['y']\n",
        "    shots_model.at[i,'C']=abs(arr[0]['y']-50)\n",
        "\n",
        "        #Distance in metres and shot angle in radians.\n",
        "    x=shots_model.at[i,'X']*105/100\n",
        "    y=shots_model.at[i,'C']*65/100\n",
        "    shots_model.at[i,'Distance']=np.sqrt(x**2 + y**2)\n",
        "    a = np.arctan(7.32 *x /(x**2 + y**2 - (7.32/2)**2))\n",
        "    if a<0:\n",
        "        a=np.pi+a\n",
        "    shots_model.at[i,'Angle'] =a\n",
        "\n",
        "        #Was it a goal\n",
        "    shots_model.at[i,'Goal']=0\n",
        "    for shottags in shot['tags']:\n",
        "            #Tags contain that its a goal\n",
        "        if array[0][\"id\"]==101:\n",
        "          shots_model.at[i,'Goal']=1"
      ],
      "metadata": {
        "id": "9ZP-wx7ps-xo"
      },
      "execution_count": null,
      "outputs": []
    },
    {
      "cell_type": "code",
      "source": [
        "H_Shot=np.histogram2d(shots_model['X'], shots_model['Y'],bins=50,range=[[0, 100],[0, 100]])\n",
        "goals_only=shots_model[shots_model['Goal']==1]\n",
        "H_Goal=np.histogram2d(goals_only['X'], goals_only['Y'],bins=50,range=[[0, 100],[0, 100]])"
      ],
      "metadata": {
        "id": "YfHaB6oltBHO"
      },
      "execution_count": null,
      "outputs": []
    },
    {
      "cell_type": "code",
      "source": [
        "(fig,ax) = FCPython.createGoalMouth()\n",
        "pos=ax.imshow(H_Shot[0], extent=[-1,66,104,-1], aspect='auto',cmap=plt.cm.Reds)\n",
        "#pos=ax.imshow(shots)\n",
        "fig.colorbar(pos, ax=ax)\n",
        "ax.set_title('Number of shots')\n",
        "plt.xlim((-1,66))\n",
        "plt.ylim((-3,35))\n",
        "plt.tight_layout()\n",
        "plt.gca().set_aspect('equal', adjustable='box')\n",
        "plt.show()"
      ],
      "metadata": {
        "colab": {
          "base_uri": "https://localhost:8080/",
          "height": 281
        },
        "id": "n3NceJxVtE2C",
        "outputId": "35c6f68e-de1f-400f-effc-43c43467d0a9"
      },
      "execution_count": null,
      "outputs": [
        {
          "output_type": "display_data",
          "data": {
            "text/plain": [
              "<Figure size 432x288 with 2 Axes>"
            ],
            "image/png": "[encoded data removed]"
          },
          "metadata": {
            "needs_background": "light"
          }
        }
      ]
    },
    {
      "cell_type": "code",
      "source": [
        "(fig,ax) = FCPython.createGoalMouth()\n",
        "pos=ax.imshow(H_Goal[0], extent=[-1,66,104,-1], aspect='auto',cmap=plt.cm.Reds)\n",
        "fig.colorbar(pos, ax=ax)\n",
        "ax.set_title('Number of goals')\n",
        "plt.xlim((-1,66))\n",
        "plt.ylim((-3,35))\n",
        "plt.tight_layout()\n",
        "plt.gca().set_aspect('equal', adjustable='box')\n",
        "plt.show()"
      ],
      "metadata": {
        "colab": {
          "base_uri": "https://localhost:8080/",
          "height": 281
        },
        "id": "OWmHOwWGtIAX",
        "outputId": "5bd430de-1d78-4515-83a9-54b396a86633"
      },
      "execution_count": null,
      "outputs": [
        {
          "output_type": "display_data",
          "data": {
            "text/plain": [
              "<Figure size 432x288 with 2 Axes>"
            ],
            "image/png": "[encoded data removed]"
          },
          "metadata": {
            "needs_background": "light"
          }
        }
      ]
    },
    {
      "cell_type": "code",
      "source": [
        "(fig,ax) = FCPython.createGoalMouth()\n",
        "pos=ax.imshow(H_Goal[0]/H_Shot[0], extent=[-1,66,104,-1], aspect='auto',cmap=plt.cm.Reds,vmin=0, vmax=0.5)\n",
        "fig.colorbar(pos, ax=ax)\n",
        "ax.set_title('Proportion of shots resulting in a goal')\n",
        "plt.xlim((-1,66))\n",
        "plt.ylim((-3,35))\n",
        "plt.tight_layout()\n",
        "plt.gca().set_aspect('equal', adjustable='box')\n",
        "plt.show()"
      ],
      "metadata": {
        "colab": {
          "base_uri": "https://localhost:8080/",
          "height": 320
        },
        "id": "rWSaLwystL1w",
        "outputId": "562d616e-1166-47d6-e09c-98cb9a7dfe59"
      },
      "execution_count": null,
      "outputs": [
        {
          "output_type": "stream",
          "name": "stderr",
          "text": [
            "<ipython-input-88-751f7cae92e7>:2: RuntimeWarning: invalid value encountered in true_divide\n",
            "  pos=ax.imshow(H_Goal[0]/H_Shot[0], extent=[-1,66,104,-1], aspect='auto',cmap=plt.cm.Reds,vmin=0, vmax=0.5)\n"
          ]
        },
        {
          "output_type": "display_data",
          "data": {
            "text/plain": [
              "<Figure size 432x288 with 2 Axes>"
            ],
            "image/png": "[encoded data removed]"
          },
          "metadata": {
            "needs_background": "light"
          }
        }
      ]
    },
    {
      "cell_type": "code",
      "source": [
        "#The basics\n",
        "import pandas as pd\n",
        "import numpy as np\n",
        "import json\n",
        "\n",
        "#Plotting\n",
        "import matplotlib.pyplot as plt\n",
        "import FCPython\n",
        "\n",
        "#Statistical fitting of models\n",
        "import statsmodels.api as sm\n",
        "import statsmodels.formula.api as smf\n",
        "\n",
        "#Decide which league to load\n",
        "#Wyscout data from https://figshare.com/collections/Soccer_match_event_dataset/4415000/2\n",
        "with open('/content/events_England.csv') as f:\n",
        "    #data = json.load(f)\n",
        "    data = np.genfromtxt(f, dtype='f4', delimiter=',')\n",
        "\n",
        "#Create a data set of shots.\n",
        "train = pd.DataFrame(data)\n",
        "pd.unique(train['subEventName'])\n",
        "shots=train[train['subEventName']=='Shot']\n",
        "shots_model=pd.DataFrame(columns=['Goal','X','Y'])\n",
        "\n",
        "#Go through the dataframe and calculate X, Y co-ordinates.\n",
        "#Distance from a line in the centre\n",
        "#Shot angle.\n",
        "#Details of tags can be found here: https://apidocs.wyscout.com/matches-wyid-events\n",
        "for i,shot in shots.iterrows():\n",
        "\n",
        "    header=0\n",
        "    for shottags in shot['tags']:\n",
        "        if shottags['id']==403:\n",
        "            header=1\n",
        "    #Only include non-headers\n",
        "    if not(header):\n",
        "        shots_model.at[i,'X']=100-shot['positions'][0]['x']\n",
        "        shots_model.at[i,'Y']=shot['positions'][0]['y']\n",
        "        shots_model.at[i,'C']=abs(shot['positions'][0]['y']-50)\n",
        "\n",
        "        #Distance in metres and shot angle in radians.\n",
        "        x=shots_model.at[i,'X']*105/100\n",
        "        y=shots_model.at[i,'C']*65/100\n",
        "        shots_model.at[i,'Distance']=np.sqrt(x**2 + y**2)\n",
        "        a = np.arctan(7.32 *x /(x**2 + y**2 - (7.32/2)**2))\n",
        "        if a<0:\n",
        "            a=np.pi+a\n",
        "        shots_model.at[i,'Angle'] =a\n",
        "\n",
        "        #Was it a goal\n",
        "        shots_model.at[i,'Goal']=0\n",
        "        for shottags in shot['tags']:\n",
        "                #Tags contain that its a goal\n",
        "                if shottags['id']==101:\n",
        "                    shots_model.at[i,'Goal']=1\n",
        "\n",
        "#Two dimensional histogram\n",
        "H_Shot=np.histogram2d(shots_model['X'], shots_model['Y'],bins=50,range=[[0, 100],[0, 100]])\n",
        "goals_only=shots_model[shots_model['Goal']==1]\n",
        "H_Goal=np.histogram2d(goals_only['X'], goals_only['Y'],bins=50,range=[[0, 100],[0, 100]])\n",
        "\n",
        "\n",
        "\n",
        "#Plot the number of shots from different points\n",
        "(fig,ax) = FCPython.createGoalMouth()\n",
        "pos=ax.imshow(H_Shot[0], extent=[-1,66,104,-1], aspect='auto',cmap=plt.cm.Reds)\n",
        "fig.colorbar(pos, ax=ax)\n",
        "ax.set_title('Number of shots')\n",
        "plt.xlim((-1,66))\n",
        "plt.ylim((-3,35))\n",
        "plt.tight_layout()\n",
        "plt.gca().set_aspect('equal', adjustable='box')\n",
        "plt.show()\n",
        "#fig.savefig('/content/NumberOfShots.pdf', dpi=None, bbox_inches=\"tight\")\n",
        "\n",
        "\n",
        "#Plot the number of GOALS from different points\n",
        "(fig,ax) = FCPython.createGoalMouth()\n",
        "pos=ax.imshow(H_Goal[0], extent=[-1,66,104,-1], aspect='auto',cmap=plt.cm.Reds)\n",
        "fig.colorbar(pos, ax=ax)\n",
        "ax.set_title('Number of goals')\n",
        "plt.xlim((-1,66))\n",
        "plt.ylim((-3,35))\n",
        "plt.tight_layout()\n",
        "plt.gca().set_aspect('equal', adjustable='box')\n",
        "plt.show()\n",
        "#fig.savefig('/content/NumberOfGoals.pdf', dpi=None, bbox_inches=\"tight\")\n",
        "\n",
        "\n",
        "#Plot the probability of scoring from different points\n",
        "(fig,ax) = FCPython.createGoalMouth()\n",
        "pos=ax.imshow(H_Goal[0]/H_Shot[0], extent=[-1,66,104,-1], aspect='auto',cmap=plt.cm.Reds,vmin=0, vmax=0.5)\n",
        "fig.colorbar(pos, ax=ax)\n",
        "ax.set_title('Proportion of shots resulting in a goal')\n",
        "plt.xlim((-1,66))\n",
        "plt.ylim((-3,35))\n",
        "plt.tight_layout()\n",
        "plt.gca().set_aspect('equal', adjustable='box')\n",
        "plt.show()\n",
        "#fig.savefig('/content/ProbabilityOfScoring.pdf', dpi=None, bbox_inches=\"tight\")"
      ],
      "metadata": {
        "id": "CPy4VsbEnlwI"
      },
      "execution_count": null,
      "outputs": []
    }
  ]
}